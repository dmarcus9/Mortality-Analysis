{
 "cells": [
  {
   "cell_type": "code",
   "execution_count": 1,
   "metadata": {},
   "outputs": [],
   "source": [
    "import pandas as pd\n",
    "import json"
   ]
  },
  {
   "cell_type": "code",
   "execution_count": 2,
   "metadata": {},
   "outputs": [],
   "source": [
    "csv_path = \"mortality/2015_data.csv\""
   ]
  },
  {
   "cell_type": "code",
   "execution_count": 11,
   "metadata": {},
   "outputs": [],
   "source": [
    "deaths_df = pd.read_csv(csv_path, encoding=\"utf-8\",low_memory=False)"
   ]
  },
  {
   "cell_type": "code",
   "execution_count": 12,
   "metadata": {},
   "outputs": [],
   "source": [
    "#Convert categorical columns to strings\n",
    "deaths_df[\"39_cause_recode\"] = deaths_df[\"39_cause_recode\"].astype(str)\n",
    "deaths_df[\"day_of_week_of_death\"] = deaths_df[\"day_of_week_of_death\"].astype(str)\n",
    "deaths_df[\"month_of_death\"] = deaths_df[\"month_of_death\"].astype(str)\n",
    "deaths_df[\"age_recode_12\"] = deaths_df[\"age_recode_12\"].astype(str)\n",
    "deaths_df[\"manner_of_death\"] = deaths_df[\"manner_of_death\"].astype(str)\n",
    "deaths_df[\"activity_code\"] = deaths_df[\"activity_code\"].astype(str)\n",
    "deaths_df[\"hispanic_originrace_recode\"] = deaths_df[\"hispanic_originrace_recode\"].astype(str)\n",
    "deaths_df[\"race\"] = deaths_df[\"race\"].astype(str)\n"
   ]
  },
  {
   "cell_type": "code",
   "execution_count": 13,
   "metadata": {},
   "outputs": [],
   "source": [
    "#Open json file and load into dictionary\n",
    "with open(\"mortality/json_codes.txt\") as json_file:\n",
    "    codes = json.load(json_file)"
   ]
  },
  {
   "cell_type": "code",
   "execution_count": 14,
   "metadata": {},
   "outputs": [],
   "source": [
    "for item in codes[\"39_cause_recode\"]:\n",
    "    codes[\"39_cause_recode\"][item.lstrip(\"0\")] = codes[\"39_cause_recode\"].pop(item)"
   ]
  },
  {
   "cell_type": "code",
   "execution_count": 15,
   "metadata": {},
   "outputs": [],
   "source": [
    "for item in codes[\"113_cause_recode\"]:\n",
    "    codes[\"113_cause_recode\"][item.lstrip(\"0\")] = codes[\"113_cause_recode\"].pop(item)"
   ]
  },
  {
   "cell_type": "code",
   "execution_count": 16,
   "metadata": {},
   "outputs": [],
   "source": [
    "#Map categorical columns using json disctionary\n",
    "deaths_df[\"113_cause_recode\"] = deaths_df[\"113_cause_recode\"].map(codes[\"113_cause_recode\"])\n",
    "deaths_df[\"39_cause_recode\"] = deaths_df[\"39_cause_recode\"].map(codes[\"39_cause_recode\"])\n",
    "deaths_df[\"day_of_week_of_death\"] = deaths_df[\"day_of_week_of_death\"].map(codes[\"day_of_week_of_death\"])\n",
    "deaths_df[\"month_of_death\"] = deaths_df[\"month_of_death\"].map(codes[\"month_of_death\"])\n",
    "deaths_df[\"age_recode_12\"] = deaths_df[\"age_recode_12\"].map(codes[\"age_recode_12\"])\n",
    "deaths_df[\"manner_of_death\"] = deaths_df[\"manner_of_death\"].map(codes[\"manner_of_death\"])\n",
    "deaths_df[\"activity_code\"] = deaths_df[\"activity_code\"].map(codes[\"activity_code\"])\n",
    "deaths_df[\"hispanic_originrace_recode\"] = deaths_df[\"hispanic_originrace_recode\"].map(codes[\"hispanic_originrace_recode\"])\n",
    "deaths_df[\"race\"] = deaths_df[\"race\"].map(codes[\"race\"])"
   ]
  },
  {
   "cell_type": "code",
   "execution_count": 18,
   "metadata": {},
   "outputs": [
    {
     "data": {
      "text/html": [
       "<div>\n",
       "<style scoped>\n",
       "    .dataframe tbody tr th:only-of-type {\n",
       "        vertical-align: middle;\n",
       "    }\n",
       "\n",
       "    .dataframe tbody tr th {\n",
       "        vertical-align: top;\n",
       "    }\n",
       "\n",
       "    .dataframe thead th {\n",
       "        text-align: right;\n",
       "    }\n",
       "</style>\n",
       "<table border=\"1\" class=\"dataframe\">\n",
       "  <thead>\n",
       "    <tr style=\"text-align: right;\">\n",
       "      <th></th>\n",
       "      <th>month_of_death</th>\n",
       "      <th>sex</th>\n",
       "      <th>age_recode_12</th>\n",
       "      <th>marital_status</th>\n",
       "      <th>day_of_week_of_death</th>\n",
       "      <th>current_data_year</th>\n",
       "      <th>manner_of_death</th>\n",
       "      <th>activity_code</th>\n",
       "      <th>race</th>\n",
       "      <th>hispanic_originrace_recode</th>\n",
       "      <th>39_cause_recode</th>\n",
       "    </tr>\n",
       "  </thead>\n",
       "  <tbody>\n",
       "    <tr>\n",
       "      <th>0</th>\n",
       "      <td>January</td>\n",
       "      <td>M</td>\n",
       "      <td>75 - 84 years</td>\n",
       "      <td>M</td>\n",
       "      <td>Sunday</td>\n",
       "      <td>2015</td>\n",
       "      <td>Natural</td>\n",
       "      <td>Not applicable</td>\n",
       "      <td>White</td>\n",
       "      <td>Non - Hispanic white</td>\n",
       "      <td>Other diseases of heart (I00-I09,I26-I51)</td>\n",
       "    </tr>\n",
       "    <tr>\n",
       "      <th>1</th>\n",
       "      <td>January</td>\n",
       "      <td>M</td>\n",
       "      <td>65 - 74 years</td>\n",
       "      <td>M</td>\n",
       "      <td>Monday</td>\n",
       "      <td>2015</td>\n",
       "      <td>Natural</td>\n",
       "      <td>Not applicable</td>\n",
       "      <td>White</td>\n",
       "      <td>Non - Hispanic white</td>\n",
       "      <td>Malignant neoplasms of trachea, bronchus and l...</td>\n",
       "    </tr>\n",
       "    <tr>\n",
       "      <th>2</th>\n",
       "      <td>January</td>\n",
       "      <td>F</td>\n",
       "      <td>85 years and over</td>\n",
       "      <td>W</td>\n",
       "      <td>Friday</td>\n",
       "      <td>2015</td>\n",
       "      <td>Natural</td>\n",
       "      <td>Not applicable</td>\n",
       "      <td>White</td>\n",
       "      <td>Non - Hispanic white</td>\n",
       "      <td>Alzheimer's disease (G30)</td>\n",
       "    </tr>\n",
       "    <tr>\n",
       "      <th>3</th>\n",
       "      <td>January</td>\n",
       "      <td>F</td>\n",
       "      <td>35 - 44 years</td>\n",
       "      <td>S</td>\n",
       "      <td>Thursday</td>\n",
       "      <td>2015</td>\n",
       "      <td>Homicide</td>\n",
       "      <td>During unspecified activity</td>\n",
       "      <td>American Indian</td>\n",
       "      <td>Non - Hispanic other races</td>\n",
       "      <td>Assault (homicide) (*U01-*U02,X85-Y09,Y87.1)</td>\n",
       "    </tr>\n",
       "    <tr>\n",
       "      <th>4</th>\n",
       "      <td>January</td>\n",
       "      <td>F</td>\n",
       "      <td>85 years and over</td>\n",
       "      <td>W</td>\n",
       "      <td>Thursday</td>\n",
       "      <td>2015</td>\n",
       "      <td>Natural</td>\n",
       "      <td>Not applicable</td>\n",
       "      <td>White</td>\n",
       "      <td>Non - Hispanic white</td>\n",
       "      <td>Ischemic heart diseases (I20-I25)</td>\n",
       "    </tr>\n",
       "  </tbody>\n",
       "</table>\n",
       "</div>"
      ],
      "text/plain": [
       "  month_of_death sex      age_recode_12 marital_status day_of_week_of_death  \\\n",
       "0        January   M      75 - 84 years              M               Sunday   \n",
       "1        January   M      65 - 74 years              M               Monday   \n",
       "2        January   F  85 years and over              W               Friday   \n",
       "3        January   F      35 - 44 years              S             Thursday   \n",
       "4        January   F  85 years and over              W             Thursday   \n",
       "\n",
       "   current_data_year manner_of_death                activity_code  \\\n",
       "0               2015         Natural               Not applicable   \n",
       "1               2015         Natural               Not applicable   \n",
       "2               2015         Natural               Not applicable   \n",
       "3               2015        Homicide  During unspecified activity   \n",
       "4               2015         Natural               Not applicable   \n",
       "\n",
       "              race  hispanic_originrace_recode  \\\n",
       "0            White        Non - Hispanic white   \n",
       "1            White        Non - Hispanic white   \n",
       "2            White        Non - Hispanic white   \n",
       "3  American Indian  Non - Hispanic other races   \n",
       "4            White        Non - Hispanic white   \n",
       "\n",
       "                                     39_cause_recode  \n",
       "0          Other diseases of heart (I00-I09,I26-I51)  \n",
       "1  Malignant neoplasms of trachea, bronchus and l...  \n",
       "2                          Alzheimer's disease (G30)  \n",
       "3       Assault (homicide) (*U01-*U02,X85-Y09,Y87.1)  \n",
       "4                  Ischemic heart diseases (I20-I25)  "
      ]
     },
     "execution_count": 18,
     "metadata": {},
     "output_type": "execute_result"
    }
   ],
   "source": [
    "reduced_deaths_df = deaths_df[[\"month_of_death\", \"sex\", \"age_recode_12\", \"marital_status\",\n",
    "        \"day_of_week_of_death\", \"current_data_year\", \"manner_of_death\", \"activity_code\", \n",
    "        \"race\", \"hispanic_originrace_recode\",\n",
    "\"39_cause_recode\"]]\n",
    "reduced_deaths_df.head()"
   ]
  },
  {
   "cell_type": "code",
   "execution_count": 19,
   "metadata": {},
   "outputs": [],
   "source": [
    "reduced_deaths_df.to_csv(\"mortality/reduced_deaths_df.csv\", index=False, header=True)"
   ]
  },
  {
   "cell_type": "code",
   "execution_count": null,
   "metadata": {},
   "outputs": [],
   "source": []
  }
 ],
 "metadata": {
  "kernelspec": {
   "display_name": "Python 3",
   "language": "python",
   "name": "python3"
  },
  "language_info": {
   "codemirror_mode": {
    "name": "ipython",
    "version": 3
   },
   "file_extension": ".py",
   "mimetype": "text/x-python",
   "name": "python",
   "nbconvert_exporter": "python",
   "pygments_lexer": "ipython3",
   "version": "3.6.5"
  }
 },
 "nbformat": 4,
 "nbformat_minor": 2
}
